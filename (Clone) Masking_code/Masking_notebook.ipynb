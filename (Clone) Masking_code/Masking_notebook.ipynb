{
 "cells": [
  {
   "cell_type": "code",
   "execution_count": 0,
   "metadata": {
    "application/vnd.databricks.v1+cell": {
     "cellMetadata": {
      "byteLimit": 2048000,
      "implicitDf": true,
      "rowLimit": 10000
     },
     "inputWidgets": {},
     "nuid": "9f9e89bc-2991-47f9-8a41-048ccd64fdd5",
     "showTitle": false,
     "tableResultSettingsMap": {},
     "title": ""
    }
   },
   "outputs": [],
   "source": [
    "%sql\n",
    "CREATE OR REPLACE FUNCTION training.ashish.mask_email(EmailAddress STRING)\n",
    "RETURNS STRING\n",
    "RETURN CASE \n",
    "    WHEN current_user() = 'ashish.sakhare@inferenz.ai' \n",
    "         OR is_account_group_member('DataEngineer') \n",
    "    THEN decrypt_email(EmailAddress)   -- your decryption UDF\n",
    "    ELSE CONCAT(SUBSTRING(decrypt_email(EmailAddress), 1, 2), \n",
    "                '*****@*****', \n",
    "                SUBSTRING(decrypt_email(EmailAddress), LENGTH(decrypt_email(EmailAddress))-1, 2))\n",
    "END;"
   ]
  },
  {
   "cell_type": "code",
   "execution_count": 0,
   "metadata": {
    "application/vnd.databricks.v1+cell": {
     "cellMetadata": {
      "byteLimit": 2048000,
      "implicitDf": true,
      "rowLimit": 10000
     },
     "inputWidgets": {},
     "nuid": "223fa4c0-90fa-4852-869d-729c9346ee18",
     "showTitle": false,
     "tableResultSettingsMap": {},
     "title": ""
    }
   },
   "outputs": [],
   "source": [
    "%sql\n",
    "-- Mask Email\n",
    "-- CREATE OR REPLACE FUNCTION training.ashish.mask_email(EmailAddress STRING)\n",
    "-- RETURNS STRING\n",
    "-- RETURN CASE \n",
    "--     WHEN current_user() = 'ashish.sakhare@inferenz.ai' \n",
    "--          OR is_account_group_member('DataEngineer') \n",
    "--     THEN EmailAddress\n",
    "--     ELSE CONCAT(SUBSTRING(EmailAddress, 1, 2), '*****@*****', \n",
    "--                 SUBSTRING(EmailAddress, LENGTH(EmailAddress)-1, 2))\n",
    "-- END;\n",
    "CREATE OR REPLACE FUNCTION training.ashish.mask_email(EmailAddress STRING)\n",
    "RETURNS STRING\n",
    "RETURN CASE \n",
    "    WHEN current_user() = 'ashish.sakhare@inferenz.ai' \n",
    "         OR is_account_group_member('DataEngineer') \n",
    "    THEN decrypt_email(EmailAddress)   -- your decryption UDF\n",
    "    ELSE CONCAT(SUBSTRING(decrypt_email(EmailAddress), 1, 2), \n",
    "                '*****@*****', \n",
    "                SUBSTRING(decrypt_email(EmailAddress), LENGTH(decrypt_email(EmailAddress))-1, 2))\n",
    "END;\n",
    "\n",
    "\n",
    "-- Mask Address (Postal Code)\n",
    "CREATE OR REPLACE FUNCTION training.ashish.address_mask(PostalCode STRING, City STRING)\n",
    "RETURNS STRING\n",
    "RETURN CASE \n",
    "    WHEN current_user() = 'ashish.sakhare@inferenz.ai' \n",
    "         OR is_account_group_member('DataEngineer') \n",
    "    THEN CONCAT(PostalCode, ', ', City)\n",
    "    ELSE CONCAT(SUBSTRING(PostalCode, 1, 2), '***', \n",
    "                SUBSTRING(PostalCode, LENGTH(PostalCode)-1, 2), ', ', City)\n",
    "END;\n",
    "\n",
    "\n",
    "-- Mask Customer Account Number\n",
    "CREATE OR REPLACE FUNCTION training.ashish.customer_mask(AccountNumber STRING)\n",
    "RETURNS STRING\n",
    "RETURN CASE \n",
    "    WHEN current_user() = 'ashish.sakhare@inferenz.ai' \n",
    "         OR is_account_group_member('DataEngineer') \n",
    "    THEN AccountNumber\n",
    "    ELSE CONCAT(SUBSTRING(AccountNumber, 1, 2), '***', \n",
    "                SUBSTRING(AccountNumber, LENGTH(AccountNumber)-1, 2))\n",
    "END;\n",
    "\n",
    "\n",
    "-- Mask Person Name\n",
    "CREATE OR REPLACE FUNCTION training.ashish.person_mask(FirstName STRING, MiddleName STRING, LastName STRING)\n",
    "RETURNS STRING\n",
    "RETURN CASE \n",
    "    WHEN current_user() = 'ashish.sakhare@inferenz.ai' \n",
    "         OR is_account_group_member('DataEngineer') \n",
    "    THEN CONCAT(FirstName, ' ', COALESCE(MiddleName, ''), ' ', LastName)\n",
    "    ELSE CONCAT(SUBSTRING(FirstName, 1, 2), '*** ', \n",
    "                SUBSTRING(LastName, 1, 2), '***')\n",
    "END;\n",
    "\n",
    "\n",
    "-- Mask  Account Number\n",
    "CREATE OR REPLACE FUNCTION training.ashish.mask_account_number(val STRING)\n",
    "RETURNS STRING\n",
    "RETURN CASE \n",
    "    WHEN current_user() = 'ashish.sakhare@inferenz.ai' \n",
    "         OR is_account_group_member('admins') \n",
    "    THEN val\n",
    "    ELSE CONCAT(SUBSTRING(val, 1, 2), '***', \n",
    "                SUBSTRING(val, LENGTH(val)-1, 2))\n",
    "END;\n"
   ]
  },
  {
   "cell_type": "code",
   "execution_count": 0,
   "metadata": {
    "application/vnd.databricks.v1+cell": {
     "cellMetadata": {
      "byteLimit": 2048000,
      "implicitDf": true,
      "rowLimit": 10000
     },
     "inputWidgets": {},
     "nuid": "0054b064-999c-493d-94f3-0ba9ad96de9b",
     "showTitle": false,
     "tableResultSettingsMap": {},
     "title": ""
    }
   },
   "outputs": [],
   "source": [
    "%sql\n",
    "select * from training.ashish.dim_address"
   ]
  }
 ],
 "metadata": {
  "application/vnd.databricks.v1+notebook": {
   "computePreferences": null,
   "dashboards": [],
   "environmentMetadata": {
    "base_environment": "",
    "environment_version": "3"
   },
   "inputWidgetPreferences": null,
   "language": "python",
   "notebookMetadata": {
    "mostRecentlyExecutedCommandWithImplicitDF": {
     "commandId": 7423081663438481,
     "dataframes": [
      "_sqldf"
     ]
    },
    "pythonIndentUnit": 4
   },
   "notebookName": "Masking_notebook",
   "widgets": {}
  },
  "language_info": {
   "name": "python"
  }
 },
 "nbformat": 4,
 "nbformat_minor": 0
}
