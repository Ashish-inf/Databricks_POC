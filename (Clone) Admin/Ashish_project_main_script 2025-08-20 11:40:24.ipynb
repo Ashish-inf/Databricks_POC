{
 "cells": [
  {
   "cell_type": "code",
   "execution_count": 0,
   "metadata": {
    "application/vnd.databricks.v1+cell": {
     "cellMetadata": {},
     "inputWidgets": {},
     "nuid": "296a1d1a-0401-459a-887a-7c25ced9eea4",
     "showTitle": true,
     "tableResultSettingsMap": {},
     "title": "IMORT_PYSPARK FUNCTION"
    }
   },
   "outputs": [],
   "source": [
    "import pyspark"
   ]
  },
  {
   "cell_type": "markdown",
   "metadata": {
    "application/vnd.databricks.v1+cell": {
     "cellMetadata": {},
     "inputWidgets": {},
     "nuid": "19fc87d2-f302-458c-9fb3-2c6029bfd4af",
     "showTitle": false,
     "tableResultSettingsMap": {},
     "title": ""
    }
   },
   "source": [
    "IMORT_PYSPARK FUNCTION"
   ]
  },
  {
   "cell_type": "code",
   "execution_count": 0,
   "metadata": {
    "application/vnd.databricks.v1+cell": {
     "cellMetadata": {},
     "inputWidgets": {},
     "nuid": "2e58cfef-e568-4034-93f2-f9ea662ea95d",
     "showTitle": false,
     "tableResultSettingsMap": {},
     "title": ""
    }
   },
   "outputs": [],
   "source": [
    "from pyspark import * \n",
    "from pyspark import SparkContext\n",
    "from pyspark.sql import *\n",
    "from pyspark.sql.functions import *\n",
    "from pyspark.sql.types import *\n",
    "from pyspark.sql.window import Window\n",
    "# training.ashish.productdescription_bronzetraining.ashish.productcategory_silver# from pyspark.sql.functions import monotonically_increasing_id,current_timestamp"
   ]
  },
  {
   "cell_type": "markdown",
   "metadata": {
    "application/vnd.databricks.v1+cell": {
     "cellMetadata": {},
     "inputWidgets": {},
     "nuid": "d904a567-40a3-45ae-b460-c81c653ca5b5",
     "showTitle": false,
     "tableResultSettingsMap": {},
     "title": ""
    }
   },
   "source": [
    "LOAD DATA FROM SOURCE LOC TO TARGET LOC USING COPY COMMAND "
   ]
  },
  {
   "cell_type": "code",
   "execution_count": 0,
   "metadata": {
    "application/vnd.databricks.v1+cell": {
     "cellMetadata": {
      "byteLimit": 2048000,
      "rowLimit": 10000
     },
     "inputWidgets": {},
     "nuid": "fe531f75-9c91-4723-8127-c092e63eb877",
     "showTitle": false,
     "tableResultSettingsMap": {},
     "title": ""
    }
   },
   "outputs": [],
   "source": [
    "source_location = 'abfss://trainingexternal@bayadapoc.dfs.core.windows.net/learners/ashish/clientlocation/AdventureWorks_Ashish/'\n",
    "target_location = 'abfss://trainingexternal@bayadapoc.dfs.core.windows.net/learners/ashish/landing/AdventureWorks_Ashish/'\n",
    "\n",
    "dbutils.fs.cp(source_location, target_location, recurse = True)"
   ]
  },
  {
   "cell_type": "markdown",
   "metadata": {
    "application/vnd.databricks.v1+cell": {
     "cellMetadata": {},
     "inputWidgets": {},
     "nuid": "271d1016-d5a9-4485-a30f-e1f38fe9af39",
     "showTitle": false,
     "tableResultSettingsMap": {},
     "title": ""
    }
   },
   "source": [
    "CREATE TABLE CONTROL FOR INGEST WHAT DATA TO INGEST,FROM AND WHERE AND TO WHERE"
   ]
  },
  {
   "cell_type": "code",
   "execution_count": 0,
   "metadata": {
    "application/vnd.databricks.v1+cell": {
     "cellMetadata": {},
     "inputWidgets": {},
     "nuid": "657e213f-50cd-4994-81e6-3bf131b03717",
     "showTitle": false,
     "tableResultSettingsMap": {},
     "title": ""
    }
   },
   "outputs": [],
   "source": [
    "%sql\n",
    "CREATE TABLE IF NOT EXISTS training.ashish.data_movement_control (\n",
    "  datamovement_id INT,\n",
    "  source_system STRING,\n",
    "  source_details STRING,\n",
    "  target_details STRING,\n",
    "  active BOOLEAN,\n",
    "  target_data_zone STRING,\n",
    "  created_date TIMESTAMP,\n",
    "  created_by STRING,\n",
    "  modified_date TIMESTAMP,\n",
    "  modified_by STRING\n",
    ")"
   ]
  },
  {
   "cell_type": "markdown",
   "metadata": {
    "application/vnd.databricks.v1+cell": {
     "cellMetadata": {},
     "inputWidgets": {},
     "nuid": "2afe2021-c920-4197-891a-81d668ae55e3",
     "showTitle": false,
     "tableResultSettingsMap": {},
     "title": ""
    }
   },
   "source": [
    "CREATE LOGGING TABLE FOR TRACING WHICH FILES WERE INGESTED WHEN AND WITH WHAT STATUS"
   ]
  },
  {
   "cell_type": "code",
   "execution_count": 0,
   "metadata": {
    "application/vnd.databricks.v1+cell": {
     "cellMetadata": {
      "byteLimit": 2048000,
      "implicitDf": true,
      "rowLimit": 10000
     },
     "inputWidgets": {},
     "nuid": "4bd4ba11-2f3a-4380-a939-730d4bbe5ab9",
     "showTitle": false,
     "tableResultSettingsMap": {},
     "title": ""
    }
   },
   "outputs": [],
   "source": [
    "# %sql\n",
    "# CREATE TABLE IF NOT EXISTS training.ashish.data_movement_logging (\n",
    "#   log_id STRING,\n",
    "#   source_system STRING,\n",
    "#   table_id STRING,\n",
    "#   source_details STRING,\n",
    "#   target_details STRING,\n",
    "#   event_start_time TIMESTAMP,\n",
    "#   event_end_time TIMESTAMP,\n",
    "#   status STRING,\n",
    "#   watermark_value TIMESTAMP\n",
    "# )"
   ]
  },
  {
   "cell_type": "code",
   "execution_count": 0,
   "metadata": {
    "application/vnd.databricks.v1+cell": {
     "cellMetadata": {
      "byteLimit": 2048000,
      "implicitDf": true,
      "rowLimit": 10000
     },
     "inputWidgets": {},
     "nuid": "3ce1bba1-09b0-48be-95ef-3f12c08549bd",
     "showTitle": false,
     "tableResultSettingsMap": {},
     "title": ""
    }
   },
   "outputs": [],
   "source": [
    "%sql\n",
    "-- drop table training.ashish.data_movement_logging"
   ]
  },
  {
   "cell_type": "markdown",
   "metadata": {
    "application/vnd.databricks.v1+cell": {
     "cellMetadata": {},
     "inputWidgets": {},
     "nuid": "f84b5b7b-c45e-4970-8160-139c26f44472",
     "showTitle": false,
     "tableResultSettingsMap": {},
     "title": ""
    }
   },
   "source": [
    "LOAD DATA MANUALLY IN CONTROL TABLE USING INSERT INTO COMMAND "
   ]
  },
  {
   "cell_type": "code",
   "execution_count": 0,
   "metadata": {
    "application/vnd.databricks.v1+cell": {
     "cellMetadata": {
      "byteLimit": 2048000,
      "implicitDf": true,
      "rowLimit": 10000
     },
     "inputWidgets": {},
     "nuid": "af0dc632-707e-4d47-a13f-365409cf2b65",
     "showTitle": false,
     "tableResultSettingsMap": {},
     "title": ""
    }
   },
   "outputs": [],
   "source": [
    "# %sql\n",
    "# INSERT  INTO training.ashish.data_movement_control VALUES (\n",
    "#   13\n",
    "#   , 'AdventureWork_ashish'\n",
    "#   , 'abfss://trainingexternal@bayadapoc.dfs.core.windows.net/learners/ashish/clientlocation/AdventureWorks_Ashish/ProductSubcategory/'\n",
    "#   , 'abfss://trainingexternal@bayadapoc.dfs.core.windows.net/learners/ashish/landing/AdventureWorks_ashish/ProductSubcategory/'\n",
    "#   ,true\n",
    "#   , 'landing'\n",
    "#   , current_timestamp()\n",
    "#   , current_user()\n",
    "#   , null\n",
    "#   , null\n",
    "# )"
   ]
  },
  {
   "cell_type": "markdown",
   "metadata": {
    "application/vnd.databricks.v1+cell": {
     "cellMetadata": {},
     "inputWidgets": {},
     "nuid": "1dee4927-425c-49ea-9236-276e16978092",
     "showTitle": false,
     "tableResultSettingsMap": {},
     "title": ""
    }
   },
   "source": [
    "UPDATE QUERY IF WE WANT UPDATE IN TABLE "
   ]
  },
  {
   "cell_type": "code",
   "execution_count": 0,
   "metadata": {
    "application/vnd.databricks.v1+cell": {
     "cellMetadata": {
      "byteLimit": 2048000,
      "implicitDf": true,
      "rowLimit": 10000
     },
     "inputWidgets": {},
     "nuid": "d4e35d3b-8d1d-438c-9aca-e230aa343a05",
     "showTitle": false,
     "tableResultSettingsMap": {},
     "title": ""
    }
   },
   "outputs": [],
   "source": [
    "# %sql\n",
    "# update training.ashish.data_movement_control\n",
    "# set target_details = \"abfss://trainingexternal@bayadapoc.dfs.core.windows.net/learners/ashish/landing/AdventureWorks_ashish/ProductDescription/\"\n",
    "# where datamovement_id = 8"
   ]
  },
  {
   "cell_type": "code",
   "execution_count": 0,
   "metadata": {
    "application/vnd.databricks.v1+cell": {
     "cellMetadata": {
      "byteLimit": 2048000,
      "implicitDf": true,
      "rowLimit": 10000
     },
     "inputWidgets": {},
     "nuid": "df260cb0-524d-47e4-a283-58381fa61355",
     "showTitle": false,
     "tableResultSettingsMap": {},
     "title": ""
    }
   },
   "outputs": [],
   "source": [
    "%sql\n",
    "\n",
    "select * from training.ashish.data_movement_control"
   ]
  },
  {
   "cell_type": "markdown",
   "metadata": {
    "application/vnd.databricks.v1+cell": {
     "cellMetadata": {},
     "inputWidgets": {},
     "nuid": "3c919a22-4116-4dbe-a869-aa06193ba8f4",
     "showTitle": false,
     "tableResultSettingsMap": {},
     "title": ""
    }
   },
   "source": [
    "CREATE A FUNCTION  AUTOMATES THE INGESTION OF NEW OR UPDATED FILE BASED ON METADATA RULES ENUSE NO DUPLICATES PROCESSING USING WATERMARK LOGIC AND MAINTAING A DETAILED TRIAL OF EVERY FILE MOVEMENT."
   ]
  },
  {
   "cell_type": "code",
   "execution_count": 0,
   "metadata": {
    "application/vnd.databricks.v1+cell": {
     "cellMetadata": {
      "byteLimit": 2048000,
      "rowLimit": 10000
     },
     "inputWidgets": {},
     "nuid": "20971202-0077-4cfc-8144-babe5107081c",
     "showTitle": false,
     "tableResultSettingsMap": {},
     "title": ""
    }
   },
   "outputs": [],
   "source": [
    "from pyspark.sql.functions import *\n",
    "from pyspark.sql.functions import to_unix_timestamp\n",
    "from datetime import datetime\n",
    "import uuid\n",
    "def ingest_data_to_landing_reference():\n",
    "    control_df= spark.sql('select * from training.ashish.data_movement_control where active')\n",
    "    log_df= spark.sql('select * from training.ashish.data_movement_logging')\n",
    "    for row in control_df.collect():\n",
    "        id = row[0]\n",
    "        source_files= dbutils.fs.ls(row[2])\n",
    "        # print(source_files)\n",
    "        watermark_value = log_df.filter(log_df['table_id'] == id).agg(max(\"watermark_value\").alias('latest_watermark_value')).collect()[0]['latest_watermark_value']\n",
    "        # print(watermark_value)\n",
    "        date = watermark_value\n",
    "        print(date)\n",
    "        if date == None:\n",
    "            date = datetime(1900,1,1)\n",
    "        else:\n",
    "            pass\n",
    "        date= int(date.timestamp() * 1000)\n",
    "        # print(date)\n",
    "        for files in source_files:\n",
    "            # print(\"files:\", files)\n",
    "            filepath, modification_time = files.path, files.modificationTime\n",
    "            # print(\"modification_time:\", modification_time)\n",
    "            print(\"filepath:\",filepath)\n",
    "            if modification_time > date:\n",
    "                # print('Inside the loop')\n",
    "                dbutils.fs.cp(filepath, row[3] + '/' + files.name, recurse = True)\n",
    "                table_id = row[0]\n",
    "                source_details = row[2]  + files.name\n",
    "                # print(\"src\",source_details)\n",
    "                target_details = row[3] + files.name\n",
    "                source_system = row[1]\n",
    "                log_id = str(uuid.uuid4())\n",
    "                Status = 'SUCCESS'\n",
    "                temp_query = spark.sql(f\"\"\"INSERT INTO training.ashish.data_movement_logging select\n",
    "                        '{log_id}'\n",
    "                          , '{source_system}'\n",
    "                          , '{table_id}'\n",
    "                          , '{source_details}'\n",
    "                          , '{target_details}'\n",
    "                          , current_timestamp()\n",
    "                          , current_timestamp()\n",
    "                          , '{Status}'\n",
    "                          , current_timestamp()\n",
    "                \"\"\")\n",
    "    return 'Success'"
   ]
  },
  {
   "cell_type": "markdown",
   "metadata": {
    "application/vnd.databricks.v1+cell": {
     "cellMetadata": {},
     "inputWidgets": {},
     "nuid": "22c768a6-9d28-4e2c-b782-87abfb6ad28d",
     "showTitle": false,
     "tableResultSettingsMap": {},
     "title": ""
    }
   },
   "source": [
    "CALL THE FUNCTION"
   ]
  },
  {
   "cell_type": "code",
   "execution_count": 0,
   "metadata": {
    "application/vnd.databricks.v1+cell": {
     "cellMetadata": {
      "byteLimit": 2048000,
      "rowLimit": 10000
     },
     "inputWidgets": {},
     "nuid": "14e42e46-34b3-407b-a5ce-69e57b4f0b0f",
     "showTitle": false,
     "tableResultSettingsMap": {},
     "title": ""
    }
   },
   "outputs": [],
   "source": [
    "ingest_data_to_landing_reference()"
   ]
  },
  {
   "cell_type": "code",
   "execution_count": 0,
   "metadata": {
    "application/vnd.databricks.v1+cell": {
     "cellMetadata": {
      "byteLimit": 2048000,
      "implicitDf": true,
      "rowLimit": 10000
     },
     "inputWidgets": {},
     "nuid": "9aeabef1-022c-4243-9a56-cfb237cae175",
     "showTitle": false,
     "tableResultSettingsMap": {},
     "title": ""
    }
   },
   "outputs": [],
   "source": [
    "%sql\n",
    "select * from training.ashish.data_movement_logging\n",
    "-- select * from training.ashish.data_movement_control limit 5;\n",
    "\n",
    "---truncate table training.ashish.data_movement_logging\n"
   ]
  },
  {
   "cell_type": "code",
   "execution_count": 0,
   "metadata": {
    "application/vnd.databricks.v1+cell": {
     "cellMetadata": {
      "byteLimit": 2048000,
      "implicitDf": true,
      "rowLimit": 10000
     },
     "inputWidgets": {},
     "nuid": "65cec158-1830-4d1b-8f9b-7ffeb2d81fbb",
     "showTitle": false,
     "tableResultSettingsMap": {},
     "title": ""
    }
   },
   "outputs": [],
   "source": [
    "%sql\n",
    "-- alter table training.ashish.data_movement_control\n",
    "-- drop column watermark_column"
   ]
  },
  {
   "cell_type": "code",
   "execution_count": 0,
   "metadata": {
    "application/vnd.databricks.v1+cell": {
     "cellMetadata": {
      "byteLimit": 2048000,
      "implicitDf": true,
      "rowLimit": 10000
     },
     "inputWidgets": {},
     "nuid": "dcb2749e-c2f3-4801-9ebb-d42588493bc9",
     "showTitle": false,
     "tableResultSettingsMap": {
      "0": {
       "dataGridStateBlob": "{\"version\":1,\"tableState\":{\"columnPinning\":{\"left\":[\"#row_number#\"],\"right\":[]},\"columnSizing\":{},\"columnVisibility\":{}},\"settings\":{\"columns\":{}},\"syncTimestamp\":1757661595238}",
       "filterBlob": null,
       "queryPlanFiltersBlob": null,
       "tableResultIndex": 0
      }
     },
     "title": ""
    }
   },
   "outputs": [],
   "source": [
    "%sql\n",
    "select * from training.ashish.dim_address"
   ]
  },
  {
   "cell_type": "code",
   "execution_count": 0,
   "metadata": {
    "application/vnd.databricks.v1+cell": {
     "cellMetadata": {
      "byteLimit": 2048000,
      "implicitDf": true,
      "rowLimit": 10000
     },
     "inputWidgets": {},
     "nuid": "01a44ea9-5563-4616-9019-1f7183eb54ce",
     "showTitle": false,
     "tableResultSettingsMap": {},
     "title": ""
    }
   },
   "outputs": [],
   "source": [
    "%sql\n",
    "-- update training.ashish.data_movement_control\n",
    "-- set target_details = \"abfss://trainingexternal@bayadapoc.dfs.core.windows.net/learners/ashish/landing/AdventureWorks_ashish/BusinessEntityAddress/\"\n",
    "-- where datamovement_id = 3"
   ]
  },
  {
   "cell_type": "code",
   "execution_count": 0,
   "metadata": {
    "application/vnd.databricks.v1+cell": {
     "cellMetadata": {
      "byteLimit": 2048000,
      "implicitDf": true,
      "rowLimit": 10000
     },
     "inputWidgets": {},
     "nuid": "24f77e44-2b33-4c6c-bc82-3dc847030f52",
     "showTitle": false,
     "tableResultSettingsMap": {},
     "title": ""
    }
   },
   "outputs": [],
   "source": [
    "%sql\n",
    "-- TRUNCATE TABLE training.ashish.data_movement_logging"
   ]
  },
  {
   "cell_type": "code",
   "execution_count": 0,
   "metadata": {
    "application/vnd.databricks.v1+cell": {
     "cellMetadata": {
      "byteLimit": 2048000,
      "implicitDf": true,
      "rowLimit": 10000
     },
     "inputWidgets": {},
     "nuid": "1727ba76-7d52-474f-9fb0-eecf8adc33d2",
     "showTitle": false,
     "tableResultSettingsMap": {
      "0": {
       "dataGridStateBlob": "{\"version\":1,\"tableState\":{\"columnPinning\":{\"left\":[\"#row_number#\"],\"right\":[]},\"columnSizing\":{\"source_details\":885},\"columnVisibility\":{}},\"settings\":{\"columns\":{}},\"syncTimestamp\":1755766626692}",
       "filterBlob": null,
       "queryPlanFiltersBlob": null,
       "tableResultIndex": 0
      }
     },
     "title": ""
    }
   },
   "outputs": [],
   "source": [
    "%sql\n",
    "-- select * from training.ashish.data_movement_logging\n",
    "--truncate table training.ashish.data_movement_logging;"
   ]
  },
  {
   "cell_type": "code",
   "execution_count": 0,
   "metadata": {
    "application/vnd.databricks.v1+cell": {
     "cellMetadata": {
      "byteLimit": 2048000,
      "implicitDf": true,
      "rowLimit": 10000
     },
     "inputWidgets": {},
     "nuid": "5232e765-b627-4375-8470-d67af41fc6ff",
     "showTitle": false,
     "tableResultSettingsMap": {},
     "title": ""
    }
   },
   "outputs": [],
   "source": [
    "%sql\n",
    "-- UPDATE training.ashish.data_movement_control\n",
    "-- SET active = true \n",
    "-- where datamovement_id = 11"
   ]
  },
  {
   "cell_type": "code",
   "execution_count": 0,
   "metadata": {
    "application/vnd.databricks.v1+cell": {
     "cellMetadata": {
      "byteLimit": 2048000,
      "implicitDf": true,
      "rowLimit": 10000
     },
     "inputWidgets": {},
     "nuid": "aa05f881-34e9-45f8-8f0e-e1e411363b78",
     "showTitle": false,
     "tableResultSettingsMap": {},
     "title": ""
    }
   },
   "outputs": [],
   "source": [
    "%sql\n",
    "\n",
    "-- drop table training.ashish.dim_address\n",
    "drop table training.ashish.dim_product\n",
    "-- drop table training.ashish.dim_date\n",
    "---drop table training.ashish.fact_salesorderdetail"
   ]
  },
  {
   "cell_type": "code",
   "execution_count": 0,
   "metadata": {
    "application/vnd.databricks.v1+cell": {
     "cellMetadata": {
      "byteLimit": 2048000,
      "rowLimit": 10000
     },
     "inputWidgets": {},
     "nuid": "d5aa52f5-01b4-4b1e-a626-0d2025512671",
     "showTitle": false,
     "tableResultSettingsMap": {},
     "title": ""
    }
   },
   "outputs": [],
   "source": [
    "%python\n",
    "# 1. Reading all tables\n",
    "product = spark.sql(\"select * from training.ashish.product_silver\")\n",
    "product_model = spark.sql(\"select * from training.ashish.productmodel_silver\")\n",
    "product_subcategory = spark.sql(\"select * from training.ashish.productsubcategory_silver\")\n",
    "product_category = spark.sql(\"select * from training.ashish.productcategory_silver\")\n",
    "product_description = spark.sql(\"select * from training.ashish.productdescription_silver\")\n",
    "productmodelproductdescription = spark.sql(\"select * from training.ashish.productmodelproductdescriptionculture_silver\")\n",
    "culture = spark.sql(\"select * from training.ashish.culture_silver\")\n",
    "\n",
    "# display(product)\n",
    "# display(product_model)\n",
    "# display(product_subcategory)\n",
    "# display(product_category)\n",
    "# display(product_description)\n",
    "# display(productmodelproductdescription)\n",
    "# display(culture)\n",
    "\n",
    "# 2. Joining all tables\n",
    "df_product = product_subcategory \\\n",
    "    .join(product_category, product_subcategory[\"ProductCategoryID\"] == product_category[\"ProductCategoryID\"], \"inner\")\n",
    "              #  .join(product_category, product_subcategory[\"ProductCategoryID\"] == product_category[\"ProductCategoryID\"], \"inner\") \\\n",
    "              #  .join(productmodelproductdescription, product_model[\"ProductModelID\"] == productmodelproductdescription[\"ProductModelID\"], \"inner\")\\\n",
    "              #  .join(product_description, productmodelproductdescription[\"ProductDescriptionID\"] == product_description[\"ProductDescriptionID\"], \"inner\") \\\n",
    "              #  .join(culture, productmodelproductdescription[\"CultureID\"] == culture[\"CultureID\"], \"inner\")\n",
    "display(df_product)\n",
    "\n",
    "\n",
    "# # 2. Select final columns\n",
    "# product_df = df_product.select(\n",
    "#                product[\"ProductID\"].alias(\"ProductID\"),\n",
    "#                product[\"Name\"].alias(\"Product_Name\"),\n",
    "#                product[\"ProductNumber\"],\n",
    "#                product['MakeFlag'],\n",
    "#                product[\"FinishedGoodsFlag\"],\n",
    "#                product[\"Color\"],\n",
    "#                product['StandardCost'],\n",
    "#                product_model['ProductModelID'].alias('ProductModelID'),\n",
    "#                product_model['Name'].alias('ProductModelName'),\n",
    "#                product_subcategory[\"ProductSubcategoryID\"].alias(\"ProductSubcategoryID\"),\n",
    "#                product_subcategory[\"Name\"].alias(\"ProductSubcategoryName\"),\n",
    "#                product_category['ProductCategoryID'].alias(\"ProductCategoryID\"),\n",
    "#                product_category[\"Name\"].alias(\"ProductCategoryName\"),\n",
    "#                product[\"ModifiedDate\"],\n",
    "#                product_description[\"ProductDescriptionID\"].alias(\"ProductDescription\"),\n",
    "#                product_description[\"Description\"].alias(\"Description\"),\n",
    "#                culture[\"CultureID\"].alias(\"CultureID\"),\n",
    "#                culture[\"Name\"].alias(\"CultureName\")\n",
    "#                ) \n",
    "# display(product_df)"
   ]
  },
  {
   "cell_type": "code",
   "execution_count": 0,
   "metadata": {
    "application/vnd.databricks.v1+cell": {
     "cellMetadata": {
      "byteLimit": 2048000,
      "implicitDf": true,
      "rowLimit": 10000
     },
     "inputWidgets": {},
     "nuid": "752f6849-0cf2-4878-82a8-52375273d009",
     "showTitle": false,
     "tableResultSettingsMap": {},
     "title": ""
    }
   },
   "outputs": [],
   "source": [
    "%sql\n",
    "SELECT * FROM training.ashish.dim_product;\n"
   ]
  },
  {
   "cell_type": "code",
   "execution_count": 0,
   "metadata": {
    "application/vnd.databricks.v1+cell": {
     "cellMetadata": {
      "byteLimit": 2048000,
      "implicitDf": true,
      "rowLimit": 10000
     },
     "inputWidgets": {},
     "nuid": "0b01b5d7-d4d8-4466-8e12-cb242688171c",
     "showTitle": false,
     "tableResultSettingsMap": {
      "0": {
       "dataGridStateBlob": "{\"version\":1,\"tableState\":{\"columnPinning\":{\"left\":[\"#row_number#\"],\"right\":[]},\"columnSizing\":{},\"columnVisibility\":{}},\"settings\":{\"columns\":{}},\"syncTimestamp\":1757530648295}",
       "filterBlob": null,
       "queryPlanFiltersBlob": null,
       "tableResultIndex": 0
      }
     },
     "title": ""
    }
   },
   "outputs": [],
   "source": [
    "%sql\n",
    "select * from training.ashish.address_bronze"
   ]
  },
  {
   "cell_type": "code",
   "execution_count": 0,
   "metadata": {
    "application/vnd.databricks.v1+cell": {
     "cellMetadata": {
      "byteLimit": 2048000,
      "implicitDf": true,
      "rowLimit": 10000
     },
     "inputWidgets": {},
     "nuid": "dc8d2f4a-04ee-4cd0-8fe2-71a04625e17c",
     "showTitle": false,
     "tableResultSettingsMap": {
      "0": {
       "dataGridStateBlob": "{\"version\":1,\"tableState\":{\"columnPinning\":{\"left\":[\"#row_number#\"],\"right\":[]},\"columnSizing\":{},\"columnVisibility\":{}},\"settings\":{\"columns\":{}},\"syncTimestamp\":1757685651276}",
       "filterBlob": null,
       "queryPlanFiltersBlob": null,
       "tableResultIndex": 0
      }
     },
     "title": ""
    }
   },
   "outputs": [],
   "source": [
    "%sql\n",
    "select * from training.ashish.emailaddress_bronze"
   ]
  },
  {
   "cell_type": "code",
   "execution_count": 0,
   "metadata": {
    "application/vnd.databricks.v1+cell": {
     "cellMetadata": {
      "byteLimit": 2048000,
      "implicitDf": true,
      "rowLimit": 10000
     },
     "inputWidgets": {},
     "nuid": "e3bdfe26-5959-410a-a730-8d00365c6855",
     "showTitle": false,
     "tableResultSettingsMap": {},
     "title": ""
    }
   },
   "outputs": [],
   "source": [
    "%sql\n",
    "select count(ProductSubcategoryID) from training.ashish.productsubcategory_silver"
   ]
  },
  {
   "cell_type": "code",
   "execution_count": 0,
   "metadata": {
    "application/vnd.databricks.v1+cell": {
     "cellMetadata": {
      "byteLimit": 2048000,
      "implicitDf": true,
      "rowLimit": 10000
     },
     "inputWidgets": {},
     "nuid": "9dbd314f-04f5-4ce1-af08-91ed6aeac0cf",
     "showTitle": false,
     "tableResultSettingsMap": {},
     "title": ""
    }
   },
   "outputs": [],
   "source": [
    "%sql\n",
    "select count(ProductCategoryID) from training.ashish.productcategory_silver"
   ]
  },
  {
   "cell_type": "code",
   "execution_count": 0,
   "metadata": {
    "application/vnd.databricks.v1+cell": {
     "cellMetadata": {
      "byteLimit": 2048000,
      "implicitDf": true,
      "rowLimit": 10000
     },
     "inputWidgets": {},
     "nuid": "5f975a24-a001-4891-96ea-7bb4749056aa",
     "showTitle": false,
     "tableResultSettingsMap": {},
     "title": ""
    }
   },
   "outputs": [],
   "source": [
    "%sql\n",
    "select count(ProductDescriptionID) from training.ashish.productdescription_silver --762"
   ]
  },
  {
   "cell_type": "code",
   "execution_count": 0,
   "metadata": {
    "application/vnd.databricks.v1+cell": {
     "cellMetadata": {
      "byteLimit": 2048000,
      "implicitDf": true,
      "rowLimit": 10000
     },
     "inputWidgets": {},
     "nuid": "2207e80f-d5bc-4785-a13a-4d2526015c4f",
     "showTitle": false,
     "tableResultSettingsMap": {},
     "title": ""
    }
   },
   "outputs": [],
   "source": [
    "%sql\n",
    "select count(ProductDescriptionID) from training.ashish.productmodelproductdescriptionculture_silver"
   ]
  }
 ],
 "metadata": {
  "application/vnd.databricks.v1+notebook": {
   "computePreferences": null,
   "dashboards": [],
   "environmentMetadata": {
    "base_environment": "",
    "environment_version": "2"
   },
   "inputWidgetPreferences": null,
   "language": "python",
   "notebookMetadata": {
    "mostRecentlyExecutedCommandWithImplicitDF": {
     "commandId": 6594874510424616,
     "dataframes": [
      "_sqldf"
     ]
    },
    "pythonIndentUnit": 4
   },
   "notebookName": "Ashish_project_main_script 2025-08-20 11:40:24",
   "widgets": {}
  },
  "language_info": {
   "name": "python"
  }
 },
 "nbformat": 4,
 "nbformat_minor": 0
}
