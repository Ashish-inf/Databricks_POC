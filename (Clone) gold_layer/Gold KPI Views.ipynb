{
 "cells": [
  {
   "cell_type": "code",
   "execution_count": 0,
   "metadata": {
    "application/vnd.databricks.v1+cell": {
     "cellMetadata": {
      "byteLimit": 2048000,
      "implicitDf": true,
      "rowLimit": 10000
     },
     "inputWidgets": {},
     "nuid": "870e6156-302f-4f06-a8b9-10aa3531da03",
     "showTitle": true,
     "tableResultSettingsMap": {},
     "title": "Total Sales per Customer → kpi_sales_per_customer"
    }
   },
   "outputs": [],
   "source": [
    "%sql\n",
    "CREATE OR REPLACE TABLE training.ashish.kpi_sales_per_customer AS\n",
    "SELECT \n",
    "    c.CustomerID,\n",
    "    CONCAT(LEFT(c.FirstName,2),'*** ',LEFT(c.LastName,2),'***') AS CustomerName,\n",
    "    CONCAT(LEFT(c.AccountNumber,2),'***',RIGHT(c.AccountNumber,2)) AS MaskedAccountNumber,\n",
    "    CASE \n",
    "        WHEN current_user() = 'ashish.sakhare@inferenz.ai' OR is_account_group_member('DataEngineer')\n",
    "        THEN c.EmailAddress\n",
    "        ELSE CONCAT(LEFT(c.EmailAddress,2),'*****@*****',RIGHT(c.EmailAddress,2))\n",
    "    END AS MaskedEmail,\n",
    "    SUM(s.LineTotal) AS TotalSales,\n",
    "    SUM(s.OrderQty) AS TotalQuantity,\n",
    "    COUNT(DISTINCT s.sales_order_id) AS TotalOrders\n",
    "FROM training.ashish.Sales_fact_table s\n",
    "JOIN training.ashish.dim_customer c\n",
    "    ON s.customer_key = c.CustomerID\n",
    "GROUP BY \n",
    "    c.CustomerID, c.FirstName, c.LastName, c.AccountNumber, c.EmailAddress;\n"
   ]
  },
  {
   "cell_type": "code",
   "execution_count": 0,
   "metadata": {
    "application/vnd.databricks.v1+cell": {
     "cellMetadata": {
      "byteLimit": 2048000,
      "implicitDf": true,
      "rowLimit": 10000
     },
     "inputWidgets": {},
     "nuid": "230c68ef-31a0-4e04-b8e7-3b275a8fe5d8",
     "showTitle": true,
     "tableResultSettingsMap": {},
     "title": "Total Sales per Product → kpi_sales_per_product"
    }
   },
   "outputs": [],
   "source": [
    "%sql\n",
    "CREATE OR REPLACE TABLE training.ashish.kpi_sales_per_product AS\n",
    "SELECT \n",
    "    p.ProductID,\n",
    "    p.Product_Name,\n",
    "    p.ProductModel_Name,\n",
    "    p.Subcategory_Name,\n",
    "    p.ProductCategory_Name,\n",
    "    SUM(s.LineTotal) AS TotalSales,\n",
    "    SUM(s.OrderQty) AS TotalQuantity,\n",
    "    COUNT(DISTINCT s.sales_order_id) AS TotalOrders\n",
    "FROM training.ashish.Sales_fact_table s\n",
    "JOIN training.ashish.dim_product p\n",
    "    ON s.product_key = p.ProductID\n",
    "GROUP BY \n",
    "    p.ProductID, p.Product_Name, p.ProductModel_Name, p.Subcategory_Name, p.ProductCategory_Name;\n"
   ]
  },
  {
   "cell_type": "code",
   "execution_count": 0,
   "metadata": {
    "application/vnd.databricks.v1+cell": {
     "cellMetadata": {
      "byteLimit": 2048000,
      "implicitDf": true,
      "rowLimit": 10000
     },
     "inputWidgets": {},
     "nuid": "29943498-c3fe-4954-b6b3-53b0d0b3a208",
     "showTitle": false,
     "tableResultSettingsMap": {},
     "title": ""
    }
   },
   "outputs": [],
   "source": [
    "%sql\n",
    "select * from training.ashish.kpi_sales_per_product"
   ]
  },
  {
   "cell_type": "code",
   "execution_count": 0,
   "metadata": {
    "application/vnd.databricks.v1+cell": {
     "cellMetadata": {
      "byteLimit": 2048000,
      "implicitDf": true,
      "rowLimit": 10000
     },
     "inputWidgets": {},
     "nuid": "eea84729-fe5d-47e8-a7e3-c08dd6dceb24",
     "showTitle": true,
     "tableResultSettingsMap": {},
     "title": "Total Sales by Date → kpi_sales_by_date"
    }
   },
   "outputs": [],
   "source": [
    "%sql\n",
    "CREATE OR REPLACE TABLE training.ashish.kpi_sales_by_date AS\n",
    "SELECT \n",
    "    d.Date AS DateKey,\n",
    "    d.Year,\n",
    "    d.Month,\n",
    "    SUM(s.LineTotal) AS TotalSales,\n",
    "    SUM(s.OrderQty) AS TotalQuantity,\n",
    "    COUNT(DISTINCT s.order_id) AS TotalOrders\n",
    "FROM training.ashish.Sales_fact_table s\n",
    "JOIN training.ashish.dim_date d\n",
    "    ON s.date_key = d.Date\n",
    "GROUP BY \n",
    "    d.Date, d.Year, d.Month,  d.DayOfWeek;\n"
   ]
  },
  {
   "cell_type": "code",
   "execution_count": 0,
   "metadata": {
    "application/vnd.databricks.v1+cell": {
     "cellMetadata": {
      "byteLimit": 2048000,
      "implicitDf": true,
      "rowLimit": 10000
     },
     "inputWidgets": {},
     "nuid": "69de02da-378b-4c09-baf7-951c551b852e",
     "showTitle": false,
     "tableResultSettingsMap": {},
     "title": ""
    }
   },
   "outputs": [],
   "source": [
    "%sql\n",
    "select * from training.ashish.kpi_sales_by_date"
   ]
  },
  {
   "cell_type": "code",
   "execution_count": 0,
   "metadata": {
    "application/vnd.databricks.v1+cell": {
     "cellMetadata": {
      "byteLimit": 2048000,
      "implicitDf": true,
      "rowLimit": 10000
     },
     "inputWidgets": {},
     "nuid": "59264d75-baab-46f1-9b9e-e9aeaaf64405",
     "showTitle": true,
     "tableResultSettingsMap": {},
     "title": "Average Sales per Customer → kpi_avg_sales_per_customer"
    }
   },
   "outputs": [],
   "source": [
    "%sql\n",
    "CREATE OR REPLACE TABLE training.ashish.kpi_avg_sales_per_customer AS\n",
    "SELECT \n",
    "    s.customer_key,\n",
    "    ROUND(AVG(s.LineTotal),2) AS AvgSalesPerOrder,\n",
    "    ROUND(AVG(s.OrderQty),2) AS AvgQuantityPerOrder\n",
    "FROM training.ashish.Sales_fact_table s\n",
    "GROUP BY s.customer_key;\n"
   ]
  },
  {
   "cell_type": "code",
   "execution_count": 0,
   "metadata": {
    "application/vnd.databricks.v1+cell": {
     "cellMetadata": {
      "byteLimit": 2048000,
      "implicitDf": true,
      "rowLimit": 10000
     },
     "inputWidgets": {},
     "nuid": "0d15c4af-55a2-47da-8cd4-be9cbce97b21",
     "showTitle": false,
     "tableResultSettingsMap": {},
     "title": ""
    }
   },
   "outputs": [],
   "source": [
    "%sql\n",
    "select * from training.ashish.kpi_avg_sales_per_customer"
   ]
  },
  {
   "cell_type": "code",
   "execution_count": 0,
   "metadata": {
    "application/vnd.databricks.v1+cell": {
     "cellMetadata": {
      "byteLimit": 2048000,
      "implicitDf": true,
      "rowLimit": 10000
     },
     "inputWidgets": {},
     "nuid": "b75464a6-c978-41b3-9f54-b297f5ac440b",
     "showTitle": true,
     "tableResultSettingsMap": {},
     "title": "Top 10 Customers by Sales → kpi_top_customers"
    }
   },
   "outputs": [],
   "source": [
    "%sql\n",
    "CREATE OR REPLACE TABLE training.ashish.kpi_top_customers AS\n",
    "SELECT \n",
    "    c.CustomerID,\n",
    "    CONCAT(LEFT(c.FirstName,2),'*** ',LEFT(c.LastName,2),'***') AS CustomerName,\n",
    "    SUM(s.LineTotal) AS TotalSales\n",
    "FROM training.ashish.Sales_fact_table s\n",
    "JOIN training.ashish.dim_customer c\n",
    "    ON s.customer_key = c.CustomerID\n",
    "GROUP BY c.CustomerID, c.FirstName, c.LastName\n",
    "ORDER BY TotalSales DESC\n",
    "LIMIT 10;\n"
   ]
  },
  {
   "cell_type": "code",
   "execution_count": 0,
   "metadata": {
    "application/vnd.databricks.v1+cell": {
     "cellMetadata": {
      "byteLimit": 2048000,
      "implicitDf": true,
      "rowLimit": 10000
     },
     "inputWidgets": {},
     "nuid": "14832334-623c-4049-9ab6-93f7b939890a",
     "showTitle": false,
     "tableResultSettingsMap": {},
     "title": ""
    }
   },
   "outputs": [],
   "source": [
    "%sql\n",
    "select * from training.ashish.kpi_top_customers"
   ]
  }
 ],
 "metadata": {
  "application/vnd.databricks.v1+notebook": {
   "computePreferences": null,
   "dashboards": [],
   "environmentMetadata": {
    "base_environment": "",
    "environment_version": "3"
   },
   "inputWidgetPreferences": null,
   "language": "python",
   "notebookMetadata": {
    "mostRecentlyExecutedCommandWithImplicitDF": {
     "commandId": 7666148231987343,
     "dataframes": [
      "_sqldf"
     ]
    },
    "pythonIndentUnit": 4
   },
   "notebookName": "Gold KPI Views",
   "widgets": {}
  },
  "language_info": {
   "name": "python"
  }
 },
 "nbformat": 4,
 "nbformat_minor": 0
}
